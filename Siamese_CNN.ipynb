{
 "cells": [
  {
   "cell_type": "code",
   "execution_count": 1,
   "metadata": {},
   "outputs": [],
   "source": [
    "import torch\n",
    "from torch import nn\n",
    "from utils import *\n",
    "\n",
    "from model_cnn import SiameseCNN\n",
    "import dlc_practical_prologue as prologue\n",
    "\n",
    "import pdb"
   ]
  },
  {
   "cell_type": "code",
   "execution_count": 2,
   "metadata": {},
   "outputs": [],
   "source": [
    "train_input, train_target, train_classes,test_input, test_target, test_classes= prologue.generate_pair_sets(1000)"
   ]
  },
  {
   "cell_type": "code",
   "execution_count": 3,
   "metadata": {},
   "outputs": [],
   "source": [
    "train_classes_oh, train_target_oh = to_one_hot(train_classes),to_one_hot(train_target) # size of 1000*2*10\n",
    "test_classes_oh, test_target_oh = to_one_hot(test_classes),to_one_hot(test_target)"
   ]
  },
  {
   "cell_type": "code",
   "execution_count": 4,
   "metadata": {},
   "outputs": [],
   "source": [
    "train_dataset =  DatasetLoader(train_input, train_target_oh, train_classes_oh,batch_size = 100,shuffle=True)"
   ]
  },
  {
   "cell_type": "code",
   "execution_count": 5,
   "metadata": {},
   "outputs": [],
   "source": [
    "def run(inputdata,input_target,input_classes, train = True, test = False, model=SiameseCNN(), aux_loss=True):\n",
    "    if train :\n",
    "        learning_rate = 1e-3\n",
    "        batch_size =100\n",
    "        n_epoch = 100\n",
    "        model.apply(initialize_weights)\n",
    "        loss_fn =  nn.BCELoss()\n",
    "        \n",
    "        optimizer = torch.optim.Adam(model.parameters(), lr=learning_rate, betas=(0.9, 0.999))\n",
    "        StepLR = torch.optim.lr_scheduler.StepLR(optimizer, step_size=5, gamma=0.65)\n",
    "        \n",
    "        losses = []\n",
    "        for i in range(n_epoch):\n",
    "            total_loss = 0\n",
    "\n",
    "            for index, (batch_data,y,batch_classes) in enumerate(train_dataset ):\n",
    "                if aux_loss :\n",
    "\n",
    "                    classes, pred = model(batch_data)\n",
    "\n",
    "                    label0 = batch_classes[0]\n",
    "                    label1 = batch_classes[1]\n",
    "\n",
    "                    loss =loss_fn(classes[0],label0)+loss_fn(classes[1],label1)+loss_fn(pred,y)\n",
    "\n",
    "                if not(aux_loss ):\n",
    "                    pred = model(batch_data,aux_loss)\n",
    "                    loss =  loss_fn(pred,y)\n",
    "\n",
    "\n",
    "\n",
    "                # Back propagation\n",
    "                optimizer.zero_grad()\n",
    "                loss.backward()\n",
    "                optimizer.step()\n",
    "                with torch.no_grad():\n",
    "                    total_loss = total_loss+loss\n",
    "\n",
    "            losses.append(total_loss/float(index+1))\n",
    "            classes, pred = model(inputdata)\n",
    "#             _,pred_classes = torch.max(classes[0],1)\n",
    "#             _,true_classes = torch.max(input_classes[:,0,:],1)\n",
    "            pred_target = torch.zeros(1000,1)\n",
    "\n",
    "            _,pred_target = torch.max(pred,1)\n",
    "            _,true_target = torch.max(input_target,1)\n",
    "            \n",
    "            if i%5 == 0:\n",
    "                print('--The average loss of',i,' epoch is ',losses[i])\n",
    "                print('--The batch accurancy is',torch.sum(pred_target.view(-1)==true_target.type(torch.float))/1000.0)\n",
    "        torch.save(model, './model_parameters/siamese.pkl') \n",
    "        return losses\n",
    "    \n",
    "    if test:\n",
    "        model = torch.load('./model_parameters/siamese.pkl')\n",
    "        classes, pred = model(inputdata)\n",
    "        _,pred_classes = torch.max(classes[0],1)\n",
    "        _,true_classes = torch.max(input_classes[:,0,:],1)\n",
    "        pred_target = torch.zeros(1000,1)\n",
    "        \n",
    "        _,pred_target = torch.max(pred,1)\n",
    "        _,input_target = torch.max(input_target,1)\n",
    "\n",
    "        print('accurancy of test process-----',torch.sum(pred_target.view(-1)==input_target.type(torch.float))/1000.0)\n",
    "        return pred_target"
   ]
  },
  {
   "cell_type": "code",
   "execution_count": 6,
   "metadata": {},
   "outputs": [
    {
     "name": "stdout",
     "output_type": "stream",
     "text": [
      "--The average loss of 0  epoch is  tensor(0.6842)\n",
      "--The batch accurancy is tensor(0.6550)\n",
      "--The average loss of 5  epoch is  tensor(0.6584)\n",
      "--The batch accurancy is tensor(0.7390)\n",
      "--The average loss of 10  epoch is  tensor(0.5723)\n",
      "--The batch accurancy is tensor(0.7470)\n",
      "--The average loss of 15  epoch is  tensor(0.5474)\n",
      "--The batch accurancy is tensor(0.7830)\n",
      "--The average loss of 20  epoch is  tensor(0.5124)\n",
      "--The batch accurancy is tensor(0.8060)\n",
      "--The average loss of 25  epoch is  tensor(0.4555)\n",
      "--The batch accurancy is tensor(0.8220)\n",
      "--The average loss of 30  epoch is  tensor(0.4651)\n",
      "--The batch accurancy is tensor(0.8290)\n",
      "--The average loss of 35  epoch is  tensor(0.4198)\n",
      "--The batch accurancy is tensor(0.8510)\n",
      "--The average loss of 40  epoch is  tensor(0.3611)\n",
      "--The batch accurancy is tensor(0.8710)\n",
      "--The average loss of 45  epoch is  tensor(0.3147)\n",
      "--The batch accurancy is tensor(0.8740)\n",
      "--The average loss of 50  epoch is  tensor(0.2860)\n",
      "--The batch accurancy is tensor(0.8540)\n",
      "--The average loss of 55  epoch is  tensor(0.2657)\n",
      "--The batch accurancy is tensor(0.8880)\n",
      "--The average loss of 60  epoch is  tensor(0.2433)\n",
      "--The batch accurancy is tensor(0.9080)\n",
      "--The average loss of 65  epoch is  tensor(0.2445)\n",
      "--The batch accurancy is tensor(0.8950)\n",
      "--The average loss of 70  epoch is  tensor(0.2380)\n",
      "--The batch accurancy is tensor(0.9010)\n",
      "--The average loss of 75  epoch is  tensor(0.2153)\n",
      "--The batch accurancy is tensor(0.9260)\n",
      "--The average loss of 80  epoch is  tensor(0.2080)\n",
      "--The batch accurancy is tensor(0.9290)\n",
      "--The average loss of 85  epoch is  tensor(0.2017)\n",
      "--The batch accurancy is tensor(0.9270)\n",
      "--The average loss of 90  epoch is  tensor(0.1777)\n",
      "--The batch accurancy is tensor(0.9460)\n",
      "--The average loss of 95  epoch is  tensor(0.1679)\n",
      "--The batch accurancy is tensor(0.9330)\n"
     ]
    }
   ],
   "source": [
    "# training network\n",
    "losses = run(train_input, train_target_oh, train_classes_oh, train = True, test = False, model=SiameseCNN(), aux_loss=False)"
   ]
  },
  {
   "cell_type": "code",
   "execution_count": 7,
   "metadata": {},
   "outputs": [
    {
     "name": "stdout",
     "output_type": "stream",
     "text": [
      "accurancy of test process----- tensor(0.7770)\n"
     ]
    }
   ],
   "source": [
    "\n",
    "result = run(test_input, test_target_oh, test_classes_oh, train = False, test = True, model=SiameseCNN(), aux_loss=True)"
   ]
  },
  {
   "cell_type": "code",
   "execution_count": null,
   "metadata": {},
   "outputs": [],
   "source": []
  }
 ],
 "metadata": {
  "kernelspec": {
   "display_name": "Python 3",
   "language": "python",
   "name": "python3"
  },
  "language_info": {
   "codemirror_mode": {
    "name": "ipython",
    "version": 3
   },
   "file_extension": ".py",
   "mimetype": "text/x-python",
   "name": "python",
   "nbconvert_exporter": "python",
   "pygments_lexer": "ipython3",
   "version": "3.7.4"
  }
 },
 "nbformat": 4,
 "nbformat_minor": 2
}
