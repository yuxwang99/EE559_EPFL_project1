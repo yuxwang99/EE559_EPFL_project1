{
 "cells": [
  {
   "cell_type": "code",
   "execution_count": 1,
   "metadata": {},
   "outputs": [],
   "source": [
    "import torch\n",
    "from torch import nn\n",
    "import pdb\n",
    "from torch.nn import functional as F\n",
    "from torch.utils.data import DataLoader as DataLoader\n",
    "import dlc_practical_prologue as prologue"
   ]
  },
  {
   "cell_type": "code",
   "execution_count": 2,
   "metadata": {},
   "outputs": [],
   "source": [
    "train_input, train_target, train_classes,test_input, test_target, test_classes= prologue.generate_pair_sets(1000)"
   ]
  },
  {
   "cell_type": "code",
   "execution_count": 3,
   "metadata": {},
   "outputs": [],
   "source": [
    "train_classes = train_classes.t().reshape(2000,1)\n",
    "test_classes = test_classes.t().reshape(2000,1)"
   ]
  },
  {
   "cell_type": "code",
   "execution_count": 4,
   "metadata": {},
   "outputs": [],
   "source": [
    "def to_one_hot(classes):\n",
    "    n, k = classes.size()\n",
    "    one_hot_classes = torch.zeros(n,10)\n",
    "    one_hot_classes[range(0,n),classes[:,0]] = 1\n",
    "    return one_hot_classes"
   ]
  },
  {
   "cell_type": "code",
   "execution_count": 5,
   "metadata": {},
   "outputs": [],
   "source": [
    "train_input= torch.cat([train_input[:,0,:,:],train_input[:,1,:,:]],0).view(2000,1,14,14)\n",
    "test_input= torch.cat([test_input[:,0,:,:],test_input[:,1,:,:]],0).view(2000,1,14,14)"
   ]
  },
  {
   "cell_type": "code",
   "execution_count": 6,
   "metadata": {},
   "outputs": [],
   "source": [
    "train_classes_oh, test_classes_oh = to_one_hot(train_classes),to_one_hot(test_classes)"
   ]
  },
  {
   "cell_type": "code",
   "execution_count": 7,
   "metadata": {},
   "outputs": [],
   "source": [
    "class CNN(nn.Module):\n",
    "    def __init__(self):\n",
    "        super().__init__()\n",
    "        # convolutional network\n",
    "        self.conv1 = nn.Sequential(nn.Conv2d(1, 16, 3, stride=1, padding=0, dilation=1),\n",
    "                                   nn.Tanh(),\n",
    "                                   nn.MaxPool2d(2,stride=1),\n",
    "                                   nn.Dropout(0.2),\n",
    "\n",
    "                                   nn.Conv2d(16,64,3),\n",
    "                                   nn.Tanh(),\n",
    "                                   nn.MaxPool2d(2, stride=1),\n",
    "                                   nn.Dropout(0.2),\n",
    "        )\n",
    "\n",
    "        # fully connected layer\n",
    "        self.fc1 = nn.Sequential(nn.Linear(64*8*8,128),\n",
    "                                 nn.Tanh(),\n",
    "                                 nn.Linear(128,10),\n",
    "                                 nn.Softmax(-1)\n",
    "        )\n",
    "\n",
    "        self.out = nn.Sequential(nn.Linear(10,1),nn.Softmax(-1))\n",
    "        \n",
    "    def forward(self, inputdata, aux_loss = True):\n",
    "        n_epoch,dim, _, _ = inputdata.size()\n",
    "        output = []\n",
    "        data = inputdata\n",
    "        output1 = self.conv1(data)\n",
    "        output1 = output1.view(n_epoch,-1)\n",
    "        output1 = self.fc1(output1)\n",
    "#         output1 = self.out(output1)\n",
    "\n",
    "        return output1\n",
    "        "
   ]
  },
  {
   "cell_type": "code",
   "execution_count": 25,
   "metadata": {},
   "outputs": [],
   "source": [
    "def run(data,label,n_epoch=50, train=True, test= False,model = CNN()):\n",
    "    \n",
    "    if train:\n",
    "        learning_rate = 1e-3\n",
    "        model.train()\n",
    "        batch_size = 100\n",
    "        loss_fn = nn.BCELoss()\n",
    "        \n",
    "        optimizer = torch.optim.Adam(model.parameters(), lr=learning_rate, betas=(0.9, 0.999))\n",
    "        ExpLR = torch.optim.lr_scheduler.ExponentialLR(optimizer, gamma=0.98)\n",
    "        losses = []\n",
    "        for index in range(n_epoch):\n",
    "            total_loss = 0\n",
    "            for batch_data, batch_label in zip(data.split(batch_size), label.split(batch_size)):\n",
    "                model.train()\n",
    "                pred = model(batch_data)\n",
    "\n",
    "                loss =  loss_fn(pred, batch_label)\n",
    "                \n",
    "                \n",
    "                optimizer.zero_grad()\n",
    "                loss.backward()\n",
    "                optimizer.step()\n",
    "                with torch.no_grad():\n",
    "                    total_loss += loss\n",
    "            \n",
    "            losses.append(total_loss/20)\n",
    "            \n",
    "            pred = model(data)\n",
    "            _,pred_label = torch.max(pred,1)\n",
    "            _,true_label = torch.max(label,1)\n",
    "            \n",
    "            pred_label = pred_label.reshape(2,1000)\n",
    "            _,pred_target = torch.max(pred_label,0)\n",
    "\n",
    "            true_label = true_label.reshape(2,1000)\n",
    "            _,true_target = torch.max(true_label,0)\n",
    "            if index%5==0:\n",
    "                print('loss of',index,'epoch is ',loss)\n",
    "                print('accurancy of classification in training process-----',\\\n",
    "                  torch.sum(pred_label.type(torch.float)==true_label.type(torch.float))/2000.0)\n",
    "            \n",
    "                print('accurancy in training process-----',\\\n",
    "                  torch.sum(pred_target.type(torch.float)==true_target.type(torch.float))/1000.0)\n",
    "\n",
    "        \n",
    "    if test:\n",
    "        loss_fn = nn.BCELoss()\n",
    "        \n",
    "        pred = model(data)\n",
    "        losses =  loss_fn(pred, label)\n",
    "        _,pred_label = torch.max(pred,1)\n",
    "        _,true_label = torch.max(label,1)\n",
    "\n",
    "        print('accurancy of classification process-----',torch.sum(pred_label.type(torch.float)==true_label.type(torch.float))/2000.0)\n",
    "        pred_label = pred_label.reshape(2,1000)\n",
    "        _,pred_target = torch.max(pred_label,0)\n",
    "        \n",
    "        true_label = true_label.reshape(2,1000)\n",
    "        _,true_target = torch.max(true_label,0)\n",
    "        print('accurancy in test process-----',\\\n",
    "              torch.sum(pred_target.type(torch.float)==true_target.type(torch.float))/1000.0)\n",
    "    \n",
    "    return losses,pred_label"
   ]
  },
  {
   "cell_type": "code",
   "execution_count": 26,
   "metadata": {},
   "outputs": [
    {
     "name": "stdout",
     "output_type": "stream",
     "text": [
      "loss of 0 epoch is  tensor(0.0957, grad_fn=<BinaryCrossEntropyBackward>)\n",
      "accurancy of classification in training process----- tensor(0.8865)\n",
      "accurancy in training process----- tensor(0.9120)\n",
      "loss of 5 epoch is  tensor(0.0169, grad_fn=<BinaryCrossEntropyBackward>)\n",
      "accurancy of classification in training process----- tensor(0.9845)\n",
      "accurancy in training process----- tensor(0.9880)\n",
      "loss of 10 epoch is  tensor(0.0074, grad_fn=<BinaryCrossEntropyBackward>)\n",
      "accurancy of classification in training process----- tensor(0.9965)\n",
      "accurancy in training process----- tensor(0.9980)\n",
      "loss of 15 epoch is  tensor(0.0042, grad_fn=<BinaryCrossEntropyBackward>)\n",
      "accurancy of classification in training process----- tensor(0.9910)\n",
      "accurancy in training process----- tensor(0.9940)\n",
      "loss of 20 epoch is  tensor(0.0016, grad_fn=<BinaryCrossEntropyBackward>)\n",
      "accurancy of classification in training process----- tensor(1.)\n",
      "accurancy in training process----- tensor(1.)\n",
      "loss of 25 epoch is  tensor(0.0020, grad_fn=<BinaryCrossEntropyBackward>)\n",
      "accurancy of classification in training process----- tensor(1.)\n",
      "accurancy in training process----- tensor(1.)\n",
      "loss of 30 epoch is  tensor(0.0006, grad_fn=<BinaryCrossEntropyBackward>)\n",
      "accurancy of classification in training process----- tensor(1.)\n",
      "accurancy in training process----- tensor(1.)\n",
      "loss of 35 epoch is  tensor(0.0006, grad_fn=<BinaryCrossEntropyBackward>)\n",
      "accurancy of classification in training process----- tensor(1.)\n",
      "accurancy in training process----- tensor(1.)\n",
      "loss of 40 epoch is  tensor(0.0003, grad_fn=<BinaryCrossEntropyBackward>)\n",
      "accurancy of classification in training process----- tensor(1.)\n",
      "accurancy in training process----- tensor(1.)\n",
      "loss of 45 epoch is  tensor(0.0002, grad_fn=<BinaryCrossEntropyBackward>)\n",
      "accurancy of classification in training process----- tensor(1.)\n",
      "accurancy in training process----- tensor(1.)\n"
     ]
    }
   ],
   "source": [
    "losses,pred =  run(train_input,train_classes_oh, train=True, test= False)"
   ]
  },
  {
   "cell_type": "code",
   "execution_count": 27,
   "metadata": {},
   "outputs": [
    {
     "name": "stdout",
     "output_type": "stream",
     "text": [
      "accurancy of classification process----- tensor(0.9495)\n",
      "accurancy in test process----- tensor(0.9680)\n"
     ]
    }
   ],
   "source": [
    "_,pred =  run(test_input,test_classes_oh, train=False, test= True)"
   ]
  },
  {
   "cell_type": "code",
   "execution_count": null,
   "metadata": {},
   "outputs": [],
   "source": []
  }
 ],
 "metadata": {
  "kernelspec": {
   "display_name": "Python 3",
   "language": "python",
   "name": "python3"
  },
  "language_info": {
   "codemirror_mode": {
    "name": "ipython",
    "version": 3
   },
   "file_extension": ".py",
   "mimetype": "text/x-python",
   "name": "python",
   "nbconvert_exporter": "python",
   "pygments_lexer": "ipython3",
   "version": "3.7.4"
  }
 },
 "nbformat": 4,
 "nbformat_minor": 2
}
